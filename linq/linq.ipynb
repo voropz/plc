{
 "cells": [
  {
   "cell_type": "code",
   "execution_count": 1,
   "metadata": {},
   "outputs": [],
   "source": [
    "from collections import defaultdict"
   ]
  },
  {
   "cell_type": "code",
   "execution_count": 2,
   "metadata": {},
   "outputs": [],
   "source": [
    "def fib():\n",
    "    prev = 0\n",
    "    current = 1\n",
    "    while(True):\n",
    "        yield current\n",
    "        current, prev = current + prev, current"
   ]
  },
  {
   "cell_type": "code",
   "execution_count": 3,
   "metadata": {},
   "outputs": [
    {
     "data": {
      "text/plain": [
       "[1, 1, 2, 3, 5, 8, 13, 21, 34, 55]"
      ]
     },
     "execution_count": 3,
     "metadata": {},
     "output_type": "execute_result"
    }
   ],
   "source": [
    "f = fib()\n",
    "[next(f) for i in range(10)]"
   ]
  },
  {
   "cell_type": "code",
   "execution_count": 4,
   "metadata": {},
   "outputs": [],
   "source": [
    "def select(func, generator):\n",
    "    return map(func, generator)"
   ]
  },
  {
   "cell_type": "code",
   "execution_count": 5,
   "metadata": {},
   "outputs": [
    {
     "data": {
      "text/plain": [
       "[2, 2, 4, 6, 10, 16, 26, 42, 68, 110]"
      ]
     },
     "execution_count": 5,
     "metadata": {},
     "output_type": "execute_result"
    }
   ],
   "source": [
    "fib2 = select(lambda x : 2*x, fib())\n",
    "[next(fib2) for i in range(10)]"
   ]
  },
  {
   "cell_type": "code",
   "execution_count": 6,
   "metadata": {},
   "outputs": [],
   "source": [
    "def where(pred, generator):\n",
    "    return filter(pred, generator)"
   ]
  },
  {
   "cell_type": "code",
   "execution_count": 7,
   "metadata": {},
   "outputs": [
    {
     "data": {
      "text/plain": [
       "[1597, 2584, 4181, 6765, 10946, 17711, 28657, 46368, 75025, 121393]"
      ]
     },
     "execution_count": 7,
     "metadata": {},
     "output_type": "execute_result"
    }
   ],
   "source": [
    "fib1000 = where(lambda x : x > 1000, fib())\n",
    "[next(fib1000) for i in range(10)]"
   ]
  },
  {
   "cell_type": "code",
   "execution_count": 8,
   "metadata": {},
   "outputs": [],
   "source": [
    "def take(k, generator):\n",
    "    for i in range(k):\n",
    "        yield next(generator)"
   ]
  },
  {
   "cell_type": "code",
   "execution_count": 9,
   "metadata": {},
   "outputs": [
    {
     "data": {
      "text/plain": [
       "[1, 1, 2, 3, 5, 8, 13, 21, 34, 55]"
      ]
     },
     "execution_count": 9,
     "metadata": {},
     "output_type": "execute_result"
    }
   ],
   "source": [
    "fib10 = take(10, fib())\n",
    "[i for i in fib10]"
   ]
  },
  {
   "cell_type": "code",
   "execution_count": 10,
   "metadata": {},
   "outputs": [],
   "source": [
    "def to_list(generator):\n",
    "    return [i for i in generator]"
   ]
  },
  {
   "cell_type": "code",
   "execution_count": 11,
   "metadata": {},
   "outputs": [
    {
     "data": {
      "text/plain": [
       "[1, 1, 2, 3, 5, 8, 13, 21, 34, 55, 89]"
      ]
     },
     "execution_count": 11,
     "metadata": {},
     "output_type": "execute_result"
    }
   ],
   "source": [
    "to_list(take(11, fib()))"
   ]
  },
  {
   "cell_type": "code",
   "execution_count": 12,
   "metadata": {},
   "outputs": [],
   "source": [
    "def order_by(key, generator):\n",
    "    return sorted(generator, key=key)"
   ]
  },
  {
   "cell_type": "code",
   "execution_count": 13,
   "metadata": {},
   "outputs": [
    {
     "data": {
      "text/plain": [
       "[1, 1, 21, 2, 3, 13, 34, 5, 55, 8, 89]"
      ]
     },
     "execution_count": 13,
     "metadata": {},
     "output_type": "execute_result"
    }
   ],
   "source": [
    "order_by(lambda x : x % 10, take(11, fib()))"
   ]
  },
  {
   "cell_type": "code",
   "execution_count": 14,
   "metadata": {},
   "outputs": [],
   "source": [
    "def flatten(generator):\n",
    "    for gen in generator:\n",
    "        for i in gen:\n",
    "            yield i    "
   ]
  },
  {
   "cell_type": "code",
   "execution_count": 15,
   "metadata": {},
   "outputs": [],
   "source": [
    "def gen_gen():\n",
    "    for i in range(5):\n",
    "        yield ((i, x**2) for x in range(i * 5, i * 6))"
   ]
  },
  {
   "cell_type": "code",
   "execution_count": 16,
   "metadata": {},
   "outputs": [
    {
     "data": {
      "text/plain": [
       "[(1, 25),\n",
       " (2, 100),\n",
       " (2, 121),\n",
       " (3, 225),\n",
       " (3, 256),\n",
       " (3, 289),\n",
       " (4, 400),\n",
       " (4, 441),\n",
       " (4, 484),\n",
       " (4, 529)]"
      ]
     },
     "execution_count": 16,
     "metadata": {},
     "output_type": "execute_result"
    }
   ],
   "source": [
    "to_list(flatten(gen_gen()))"
   ]
  },
  {
   "cell_type": "code",
   "execution_count": 17,
   "metadata": {},
   "outputs": [],
   "source": [
    "def group_by(key, generator):\n",
    "    d = defaultdict(list)\n",
    "    for i in generator:\n",
    "        d[key(i)].append(i)\n",
    "        \n",
    "    return ((j[0],iter(j[1])) for j in d.items())"
   ]
  },
  {
   "cell_type": "code",
   "execution_count": null,
   "metadata": {},
   "outputs": [],
   "source": []
  },
  {
   "cell_type": "code",
   "execution_count": null,
   "metadata": {},
   "outputs": [],
   "source": []
  },
  {
   "cell_type": "code",
   "execution_count": 18,
   "metadata": {},
   "outputs": [
    {
     "data": {
      "text/plain": [
       "[3, 21, 20736, 987, 6765]"
      ]
     },
     "execution_count": 18,
     "metadata": {},
     "output_type": "execute_result"
    }
   ],
   "source": [
    "to_list(\n",
    "    take(5, \n",
    "     select(lambda x : x if x % 2 else x**2, \n",
    "       where(lambda x : x % 3 == 0, \n",
    "             fib()))))"
   ]
  },
  {
   "cell_type": "code",
   "execution_count": null,
   "metadata": {},
   "outputs": [],
   "source": []
  },
  {
   "cell_type": "code",
   "execution_count": 19,
   "metadata": {},
   "outputs": [],
   "source": [
    "def read_file(file):\n",
    "    with open(file, 'r') as f:\n",
    "        for line in f:\n",
    "            for i in line.rstrip().split(' '):\n",
    "                yield i"
   ]
  },
  {
   "cell_type": "code",
   "execution_count": 20,
   "metadata": {},
   "outputs": [
    {
     "data": {
      "text/plain": [
       "[('не', 5),\n",
       " ('когда', 2),\n",
       " ('делать', 2),\n",
       " ('пока', 2),\n",
       " ('же', 2),\n",
       " ('текста', 2),\n",
       " ('те', 1),\n",
       " ('кому', 1),\n",
       " ('либо', 1),\n",
       " ('приходилось', 1),\n",
       " ('в', 1),\n",
       " ('квартире', 1),\n",
       " ('ремонт', 1),\n",
       " ('наверное', 1),\n",
       " ('обращали', 1),\n",
       " ('внимание', 1),\n",
       " ('на', 1),\n",
       " ('старые', 1),\n",
       " ('газеты', 1),\n",
       " ('наклеенные', 1),\n",
       " ('под', 1),\n",
       " ('обоями', 1),\n",
       " ('как', 1),\n",
       " ('правило', 1),\n",
       " ('все', 1),\n",
       " ('статьи', 1),\n",
       " ('перечитаешь', 1),\n",
       " ('ничего', 1),\n",
       " ('другого', 1),\n",
       " ('можешь', 1),\n",
       " ('интересно', 1),\n",
       " ('обрывки', 1),\n",
       " ('чья', 1),\n",
       " ('то', 1),\n",
       " ('жизнь', 1),\n",
       " ('так', 1),\n",
       " ('и', 1),\n",
       " ('с', 1),\n",
       " ('рыбой', 1),\n",
       " ('заказчик', 1),\n",
       " ('прочтет', 1),\n",
       " ('всё', 1),\n",
       " ('он', 1),\n",
       " ('успокоится', 1),\n",
       " ('бывали', 1),\n",
       " ('случаи', 1),\n",
       " ('домашка', 1),\n",
       " ('принималась', 1),\n",
       " ('именно', 1),\n",
       " ('из-за', 1),\n",
       " ('рыбного', 1),\n",
       " ('который', 1),\n",
       " ('разумеется', 1),\n",
       " ('никакого', 1),\n",
       " ('отношения', 1),\n",
       " ('к', 1),\n",
       " ('работе', 1),\n",
       " ('имел', 1)]"
      ]
     },
     "execution_count": 20,
     "metadata": {},
     "output_type": "execute_result"
    }
   ],
   "source": [
    "to_list(\n",
    "    order_by(lambda x : -x[1],\n",
    "        select(lambda x : (x[0], len(to_list(x[1]))),\n",
    "               group_by(lambda x:x, \n",
    "                        read_file('file.txt')))))"
   ]
  },
  {
   "cell_type": "code",
   "execution_count": null,
   "metadata": {},
   "outputs": [],
   "source": []
  },
  {
   "cell_type": "code",
   "execution_count": null,
   "metadata": {},
   "outputs": [],
   "source": []
  }
 ],
 "metadata": {
  "kernelspec": {
   "display_name": "Python 3",
   "language": "python",
   "name": "python3"
  },
  "language_info": {
   "codemirror_mode": {
    "name": "ipython",
    "version": 3
   },
   "file_extension": ".py",
   "mimetype": "text/x-python",
   "name": "python",
   "nbconvert_exporter": "python",
   "pygments_lexer": "ipython3",
   "version": "3.6.4"
  }
 },
 "nbformat": 4,
 "nbformat_minor": 2
}
